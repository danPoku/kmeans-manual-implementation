{
 "cells": [
  {
   "cell_type": "markdown",
   "metadata": {},
   "source": [
    "### Import Iris dataset and libraries\n"
   ]
  },
  {
   "cell_type": "code",
   "execution_count": 1,
   "metadata": {},
   "outputs": [],
   "source": [
    "from sklearn.datasets import load_iris\n",
    "from math import fsum, sqrt\n",
    "from typing import List\n",
    "from collections import defaultdict\n",
    "from random import sample\n",
    "\n",
    "import matplotlib.pyplot as plt"
   ]
  },
  {
   "cell_type": "markdown",
   "metadata": {},
   "source": [
    "### Load Iris data\n"
   ]
  },
  {
   "cell_type": "code",
   "execution_count": 2,
   "metadata": {},
   "outputs": [],
   "source": [
    "iris = load_iris()\n",
    "data = iris.data"
   ]
  },
  {
   "cell_type": "markdown",
   "metadata": {},
   "source": [
    "### Explore data\n"
   ]
  },
  {
   "cell_type": "code",
   "execution_count": 3,
   "metadata": {},
   "outputs": [
    {
     "data": {
      "image/png": "[encoded data removed]",
      "text/plain": [
       "<Figure size 432x288 with 1 Axes>"
      ]
     },
     "metadata": {
      "needs_background": "light"
     },
     "output_type": "display_data"
    }
   ],
   "source": [
    "# sns.pairplot(iris_csv, hue='species')\n",
    "# x contains all the sepal length and y contains the sepal width\n",
    "x = data[: , 0]\n",
    "y = data[: , 1]\n",
    " \n",
    "plt.scatter(x, y, c=iris.target)\n",
    " \n",
    "plt.xlabel('sepal length (cm)')\n",
    "plt.ylabel('sepal width (cm)')\n",
    "plt.legend(iris.target_names)\n",
    " \n",
    "plt.show()"
   ]
  },
  {
   "cell_type": "markdown",
   "metadata": {},
   "source": [
    "### Functions"
   ]
  },
  {
   "cell_type": "code",
   "execution_count": 4,
   "metadata": {},
   "outputs": [],
   "source": [
    "def random_points(data, k) -> List:\n",
    "  \"\"\"Arbitrary points as center for each cluster\"\"\"\n",
    "  return sample(data,k)\n",
    "  \n",
    "def mean(data) -> float:\n",
    "    \"\"\"Arithmetic mean\"\"\"\n",
    "    return fsum(data) / len(data)\n",
    "\n",
    "\n",
    "def transpose(data):\n",
    "    \"\"\"Swap and group all the Xs Ys Zs and As in a data row\"\"\"\n",
    "    return list(zip(*data))\n",
    "\n",
    "def distance(p , q , fsum=fsum, sqrt=sqrt, zip=zip):\n",
    "    \"\"\"Pythagorean theorem to calculate distance between two data points\"\"\"\n",
    "    return sqrt(fsum([(x - y) ** 2 for x, y in zip(p, q)])) \n",
    "\n",
    "\n",
    "def assign_data(centroids, data):\n",
    "    \"\"\"Group data points to the closest centroid\"\"\"\n",
    "    \n",
    "    d = defaultdict(list) #use defaultdict to group points around centroids\n",
    "    for point in data:\n",
    "      # finding the point with the shortest distance to a centroid\n",
    "        closest_centroid = min(centroids, key=lambda centroid: \n",
    "                               distance(point, centroid))  \n",
    "       # assign data point to the closest centroid\n",
    "        d[closest_centroid].append(point) \n",
    "    return dict(d)\n",
    "\n",
    "\n",
    "def compute_centroids(groups):\n",
    "    \"\"\"Compute cluster centers\"\"\"\n",
    "    return [tuple(list(map(mean, transpose(group)))) for group in groups]\n",
    "\n",
    "\n",
    "def kmeans(data, k: int=3):\n",
    "    \"\"\"K-means clustering using an arbitrary or the default k value of 3\"\"\"\n",
    "    data = [tuple(i) for i in data]\n",
    "    centroids = random_points(data, k)  # generate random centers\n",
    "    old_centroids = []\n",
    "    labeled_data = {}\n",
    "\n",
    "    #loop stops when the centroids don't change anymore\n",
    "    while old_centroids != centroids:\n",
    "        old_centroids = centroids    \n",
    "        labeled_data = assign_data(centroids, data) \n",
    "\n",
    "        # compute new centroids\n",
    "        centroids = compute_centroids(labeled_data.values())\n",
    "    \n",
    "    return labeled_data   \n",
    "    "
   ]
  },
  {
   "cell_type": "markdown",
   "metadata": {},
   "source": [
    "# **K-MEANS CLUSTERING**\n"
   ]
  },
  {
   "cell_type": "code",
   "execution_count": 5,
   "metadata": {},
   "outputs": [],
   "source": [
    "results = kmeans(data)"
   ]
  },
  {
   "cell_type": "markdown",
   "metadata": {},
   "source": [
    "### Separate Centroids and Values\n",
    "\n"
   ]
  },
  {
   "cell_type": "code",
   "execution_count": 6,
   "metadata": {},
   "outputs": [],
   "source": [
    "\n",
    "def extract(clusters):\n",
    "    \"\"\"Extract values in the kmeans dictionary\"\"\"\n",
    "    \n",
    "    #group final centroids keys\n",
    "    centroid_list = list(clusters.keys())\n",
    "\n",
    "    #extract values per centroid key\n",
    "    datapoints = []\n",
    "    for i in range(len(centroid_list)):\n",
    "        # go through every key-value pair of the kmeans and\n",
    "        # make a new array of all values\n",
    "        batchpoints = list(results.values())[i]\n",
    "\n",
    "        #converting datapoints from tuples to list\n",
    "        batchpoints = [list(item) for item in batchpoints]\n",
    "        \n",
    "        datapoints.append(batchpoints)\n",
    "    return datapoints"
   ]
  },
  {
   "cell_type": "markdown",
   "metadata": {},
   "source": [
    "Data visualization\n",
    "\n",
    "This section of code is hard-coded and not built to scale. Future updates will cater for that"
   ]
  },
  {
   "cell_type": "code",
   "execution_count": 7,
   "metadata": {},
   "outputs": [
    {
     "data": {
      "text/plain": [
       "Text(0, 0.5, 'Sepal Width')"
      ]
     },
     "execution_count": 7,
     "metadata": {},
     "output_type": "execute_result"
    },
    {
     "data": {
      "image/png": "[encoded data removed]",
      "text/plain": [
       "<Figure size 432x288 with 1 Axes>"
      ]
     },
     "metadata": {
      "needs_background": "light"
     },
     "output_type": "display_data"
    }
   ],
   "source": [
    "\n",
    "cluster_data = extract(results)\n",
    "cluster_data[0]\n",
    "cluster_data[1]\n",
    "cluster_data[2]\n",
    "\n",
    "\n",
    "#First Cluster\n",
    "sepal_x = []\n",
    "sepal_y = []\n",
    "for i in range(len(cluster_data[0])):\n",
    "    sepal_x.append(cluster_data[0][i][0])\n",
    "    sepal_y.append(cluster_data[0][i][1])\n",
    "\n",
    "#Second Cluster\n",
    "second_sepal_x = []\n",
    "second_sepal_y = []\n",
    "for i in range(len(cluster_data[1])):\n",
    "    second_sepal_x.append(cluster_data[1][i][0])\n",
    "    second_sepal_y.append(cluster_data[1][i][1])\n",
    "\n",
    "#Third Cluster\n",
    "third_sepal_x = []\n",
    "third_sepal_y = []\n",
    "for i in range(len(cluster_data[2])):\n",
    "    third_sepal_x.append(cluster_data[2][i][0])\n",
    "    third_sepal_y.append(cluster_data[2][i][1])\n",
    "\n",
    "\n",
    "centroid_list = list(results.keys())\n",
    "\n",
    "#Plot Centroids\n",
    "plt.scatter(x=centroid_list[0][0], y=centroid_list[0][1], \n",
    "            c='black', marker='o', linewidths=4)\n",
    "plt.scatter(x=centroid_list[1][0], y=centroid_list[1][1], \n",
    "            c='black', marker='o', linewidths=4)\n",
    "plt.scatter(x=centroid_list[2][0], y=centroid_list[2][1], \n",
    "            c='black', marker='o', linewidths=4)\n",
    "\n",
    "plt.scatter(x=sepal_x, y=sepal_y, label='Setosa')\n",
    "plt.scatter(x=second_sepal_x, y=second_sepal_y, label='Versicolor')\n",
    "plt.scatter(x=third_sepal_x, y=third_sepal_y, label='Virginica')\n",
    "plt.legend()\n",
    "plt.xlabel('Sepal Length')\n",
    "plt.ylabel('Sepal Width')\n"
   ]
  },
  {
   "cell_type": "code",
   "execution_count": null,
   "metadata": {},
   "outputs": [],
   "source": []
  }
 ],
 "metadata": {
  "interpreter": {
   "hash": "44ad0f2b71033a5d2175a94e6404276c6f9c25bb38f81b207a8630169e8a1b3c"
  },
  "kernelspec": {
   "display_name": "Python 3.9.12 ('dsmlbootcamp')",
   "language": "python",
   "name": "python3"
  },
  "language_info": {
   "codemirror_mode": {
    "name": "ipython",
    "version": 3
   },
   "file_extension": ".py",
   "mimetype": "text/x-python",
   "name": "python",
   "nbconvert_exporter": "python",
   "pygments_lexer": "ipython3",
   "version": "3.9.12"
  },
  "orig_nbformat": 4
 },
 "nbformat": 4,
 "nbformat_minor": 2
}
